{
 "cells": [
  {
   "cell_type": "code",
   "execution_count": 10,
   "metadata": {},
   "outputs": [],
   "source": [
    "import os\n",
    "import re\n",
    "import numpy as np\n",
    "import pandas as pd\n",
    "import matplotlib.pyplot as plt\n",
    "from sklearn.feature_extraction.text import TfidfVectorizer\n",
    "from sklearn.svm import LinearSVC\n",
    "from sklearn.metrics import accuracy_score\n"
   ]
  },
  {
   "cell_type": "code",
   "execution_count": 3,
   "metadata": {},
   "outputs": [],
   "source": [
    "def loadData(dataPath):\n",
    "    data = []\n",
    "    for f in os.listdir(dataPath):\n",
    "        filePath = dataPath + f\n",
    "        with open(filePath,encoding = 'utf-8') as file:\n",
    "            content = file.read()\n",
    "            label = str(f).replace('.txt','')\n",
    "            data.append([label, content])\n",
    "    \n",
    "    return data\n"
   ]
  },
  {
   "cell_type": "code",
   "execution_count": 4,
   "metadata": {},
   "outputs": [],
   "source": [
    "def preprocess(data):\n",
    "    for doc in data:\n",
    "        content = doc[1]\n",
    "        content = re.sub('[0-9]|[.“:,;”/)()?%\\\"\\'\\\\+*&-]', '', content)\n",
    "        content = content.lower()\n",
    "        doc[1] = content\n",
    "        "
   ]
  },
  {
   "cell_type": "code",
   "execution_count": 5,
   "metadata": {},
   "outputs": [],
   "source": [
    "# tạo từ điển\n",
    "def buildDict(data):\n",
    "    word_dict = {}\n",
    "    for doc in data:\n",
    "        content = doc[1]\n",
    "        lines = content.split('\\n')\n",
    "        for line in lines:\n",
    "            words = [i for i in line.split(' ') if i != '']\n",
    "            for word in words:\n",
    "                if word in word_dict:\n",
    "                    word_dict[word] += 1\n",
    "                else:\n",
    "                    word_dict[word] = 1\n",
    "    # loại bỏ các stopword theo số từ \n",
    "    stopwords = []\n",
    "    for word in word_dict:\n",
    "        if (word_dict[word] > 5000  or (word_dict[word] == 1 and '_' not in word)):\n",
    "            stopwords.append(word)\n",
    "    \n",
    "    for word in stopwords:\n",
    "        word_dict.pop(word)\n",
    "\n",
    "    return word_dict"
   ]
  },
  {
   "cell_type": "code",
   "execution_count": 7,
   "metadata": {},
   "outputs": [],
   "source": [
    "def buildVector (data, word_dict):\n",
    "    x_vector = []\n",
    "    y_vector = []\n",
    "    for doc in data:\n",
    "        content = doc[1]\n",
    "        lines = content.split('\\n')\n",
    "        \n",
    "        for line in lines:\n",
    "            words_in_line = dict.fromkeys(word_dict, 0)\n",
    "            words = [word for word in line.split(' ') if word != '' and word in word_dict]\n",
    "            \n",
    "            for word in words:\n",
    "                words_in_line[word] += 1\n",
    "                \n",
    "            vector = words_in_line.values()\n",
    "            x_vector.append(vector)\n",
    "            y_vector.append(int(doc[0]))\n",
    "            \n",
    "    return x_vector, y_vector"
   ]
  },
  {
   "cell_type": "raw",
   "metadata": {},
   "source": [
    "def test(cfl, testData, word_dict, x_vector, y_vector):\n",
    "    data = ''\n",
    "    labels = ''\n",
    "    \n",
    "    x_test = []\n",
    "    y_test = []\n",
    "    \n",
    "    for i in testData:\n",
    "        if i[0] == 'data':\n",
    "            data = i[1]\n",
    "        elif i[0] == 'label':\n",
    "            labels = i[1]\n",
    "            \n",
    "    data = re.sub('[0-9]|[.“:,;”/)()?%\\\"\\'\\\\+*&-]', '', data)\n",
    "    data = data.lower()\n",
    "    \n",
    "    labels = labels.split('\\n')\n",
    "    y_test = [int(label) for i in labels]\n",
    "    lines = data.split('\\n')\n",
    "    words_in_line = dict.fromkeys(word_dict, 0)\n",
    "    \n",
    "    for i in range(len(lines)):\n",
    "        line = lines[i]\n",
    "        label = labels[i]\n",
    "        words = [word for word in line.split(' ') if word in word_dict and word != '']\n",
    "        words_in_line = dict.fromkeys(word_dict, 0)\n",
    "        \n",
    "        for word in words:\n",
    "            words_in_line[word] += 1\n",
    "            \n",
    "        vector = words_in_line.values()\n",
    "        x_test.append(vector)\n",
    "    \n",
    "    cfl.predict(x_test)\n",
    "        \n",
    "    \n",
    "    \n",
    "    \n",
    "    \n",
    "    "
   ]
  },
  {
   "cell_type": "code",
   "execution_count": 14,
   "metadata": {},
   "outputs": [
    {
     "ename": "FileNotFoundError",
     "evalue": "[Errno 2] No such file or directory: 'classify_data/train/'",
     "output_type": "error",
     "traceback": [
      "\u001b[0;31m---------------------------------------------------------------------------\u001b[0m",
      "\u001b[0;31mFileNotFoundError\u001b[0m                         Traceback (most recent call last)",
      "\u001b[0;32m<ipython-input-14-f91178a889cf>\u001b[0m in \u001b[0;36m<module>\u001b[0;34m\u001b[0m\n\u001b[0;32m----> 1\u001b[0;31m \u001b[0mtrainData\u001b[0m \u001b[0;34m=\u001b[0m \u001b[0mloadData\u001b[0m\u001b[0;34m(\u001b[0m\u001b[0;34m'classify_data/train/'\u001b[0m\u001b[0;34m)\u001b[0m\u001b[0;34m\u001b[0m\u001b[0;34m\u001b[0m\u001b[0m\n\u001b[0m\u001b[1;32m      2\u001b[0m \u001b[0mtestData\u001b[0m \u001b[0;34m=\u001b[0m \u001b[0mloadData\u001b[0m\u001b[0;34m(\u001b[0m\u001b[0;34m'classify_data/test/'\u001b[0m\u001b[0;34m)\u001b[0m\u001b[0;34m\u001b[0m\u001b[0;34m\u001b[0m\u001b[0m\n\u001b[1;32m      3\u001b[0m \u001b[0;34m\u001b[0m\u001b[0m\n\u001b[1;32m      4\u001b[0m \u001b[0mtrainData\u001b[0m \u001b[0;34m=\u001b[0m \u001b[0mpreprocess\u001b[0m\u001b[0;34m(\u001b[0m\u001b[0mtrainData\u001b[0m\u001b[0;34m)\u001b[0m\u001b[0;34m\u001b[0m\u001b[0;34m\u001b[0m\u001b[0m\n\u001b[1;32m      5\u001b[0m \u001b[0mword_dict\u001b[0m \u001b[0;34m=\u001b[0m \u001b[0mbuildDict\u001b[0m\u001b[0;34m(\u001b[0m\u001b[0mtrainData\u001b[0m\u001b[0;34m)\u001b[0m\u001b[0;34m\u001b[0m\u001b[0;34m\u001b[0m\u001b[0m\n",
      "\u001b[0;32m<ipython-input-3-9e2ff56b9517>\u001b[0m in \u001b[0;36mloadData\u001b[0;34m(dataPath)\u001b[0m\n\u001b[1;32m      1\u001b[0m \u001b[0;32mdef\u001b[0m \u001b[0mloadData\u001b[0m\u001b[0;34m(\u001b[0m\u001b[0mdataPath\u001b[0m\u001b[0;34m)\u001b[0m\u001b[0;34m:\u001b[0m\u001b[0;34m\u001b[0m\u001b[0;34m\u001b[0m\u001b[0m\n\u001b[1;32m      2\u001b[0m     \u001b[0mdata\u001b[0m \u001b[0;34m=\u001b[0m \u001b[0;34m[\u001b[0m\u001b[0;34m]\u001b[0m\u001b[0;34m\u001b[0m\u001b[0;34m\u001b[0m\u001b[0m\n\u001b[0;32m----> 3\u001b[0;31m     \u001b[0;32mfor\u001b[0m \u001b[0mf\u001b[0m \u001b[0;32min\u001b[0m \u001b[0mos\u001b[0m\u001b[0;34m.\u001b[0m\u001b[0mlistdir\u001b[0m\u001b[0;34m(\u001b[0m\u001b[0mdataPath\u001b[0m\u001b[0;34m)\u001b[0m\u001b[0;34m:\u001b[0m\u001b[0;34m\u001b[0m\u001b[0;34m\u001b[0m\u001b[0m\n\u001b[0m\u001b[1;32m      4\u001b[0m         \u001b[0mfilePath\u001b[0m \u001b[0;34m=\u001b[0m \u001b[0mdataPath\u001b[0m \u001b[0;34m+\u001b[0m \u001b[0mf\u001b[0m\u001b[0;34m\u001b[0m\u001b[0;34m\u001b[0m\u001b[0m\n\u001b[1;32m      5\u001b[0m         \u001b[0;32mwith\u001b[0m \u001b[0mopen\u001b[0m\u001b[0;34m(\u001b[0m\u001b[0mfilePath\u001b[0m\u001b[0;34m,\u001b[0m\u001b[0mencoding\u001b[0m \u001b[0;34m=\u001b[0m \u001b[0;34m'utf-8'\u001b[0m\u001b[0;34m)\u001b[0m \u001b[0;32mas\u001b[0m \u001b[0mfile\u001b[0m\u001b[0;34m:\u001b[0m\u001b[0;34m\u001b[0m\u001b[0;34m\u001b[0m\u001b[0m\n",
      "\u001b[0;31mFileNotFoundError\u001b[0m: [Errno 2] No such file or directory: 'classify_data/train/'"
     ]
    }
   ],
   "source": [
    "trainData = loadData('classify_data/train/')\n",
    "testData = loadData('classify_data/test/')\n",
    "\n",
    "trainData = preprocess(trainData)\n",
    "word_dict = buildDict(trainData)\n",
    "\n",
    "x_train, y_train = buildVector(trainData, word_dict)\n",
    "\n",
    "cfl = svm.LinearSVC(C=1.0)\n",
    "cfl.fit(x_train, y_train)"
   ]
  },
  {
   "cell_type": "code",
   "execution_count": null,
   "metadata": {},
   "outputs": [],
   "source": []
  }
 ],
 "metadata": {
  "celltoolbar": "Edit Metadata",
  "kernelspec": {
   "display_name": "Python 3",
   "language": "python",
   "name": "python3"
  },
  "language_info": {
   "codemirror_mode": {
    "name": "ipython",
    "version": 3
   },
   "file_extension": ".py",
   "mimetype": "text/x-python",
   "name": "python",
   "nbconvert_exporter": "python",
   "pygments_lexer": "ipython3",
   "version": "3.7.1"
  }
 },
 "nbformat": 4,
 "nbformat_minor": 2
}
